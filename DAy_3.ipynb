{
 "cells": [
  {
   "cell_type": "markdown",
   "metadata": {},
   "source": [
    "#### Find all Duplicates in an Array"
   ]
  },
  {
   "cell_type": "code",
   "execution_count": null,
   "metadata": {},
   "outputs": [],
   "source": [
    "class Solution:\n",
    "    def findDuplicates(self, nums: List[int]) -> List[int]:\n",
    "        for i in range(len(nums)):\n",
    "            while nums[nums[i]-1]!=nums[i]:\n",
    "                nums[nums[i]-1],nums[i]=nums[i],nums[nums[i]-1]\n",
    "        return [nums[i] for i in range(len(nums)) if nums[i]!=i+1]"
   ]
  }
 ],
 "metadata": {
  "language_info": {
   "name": "python"
  }
 },
 "nbformat": 4,
 "nbformat_minor": 2
}
