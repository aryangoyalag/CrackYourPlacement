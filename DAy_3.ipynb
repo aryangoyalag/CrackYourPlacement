{
 "cells": [
  {
   "cell_type": "markdown",
   "metadata": {},
   "source": [
    "#### Find all Duplicates in an Array"
   ]
  },
  {
   "cell_type": "code",
   "execution_count": null,
   "metadata": {},
   "outputs": [],
   "source": [
    "class Solution:\n",
    "    def findDuplicates(self, nums: List[int]) -> List[int]:\n",
    "        for i in range(len(nums)):\n",
    "            while nums[nums[i]-1]!=nums[i]:\n",
    "                nums[nums[i]-1],nums[i]=nums[i],nums[nums[i]-1]\n",
    "        return [nums[i] for i in range(len(nums)) if nums[i]!=i+1]"
   ]
  },
  {
   "cell_type": "markdown",
   "metadata": {},
   "source": [
    "Three Sum"
   ]
  },
  {
   "cell_type": "code",
   "execution_count": null,
   "metadata": {},
   "outputs": [],
   "source": [
    "class Solution:\n",
    "    def threeSum(self, nums: List[int]) -> List[List[int]]:\n",
    "        nums.sort()\n",
    "        #print(nums)\n",
    "        ans=set()\n",
    "        for i in range(len(nums)):\n",
    "            j=i+1\n",
    "            k=len(nums)-1\n",
    "            while k>j:\n",
    "                if nums[i]+nums[j]+nums[k]==0:\n",
    "                    ans.add((nums[i],nums[j],nums[k]))\n",
    "                    j+=1\n",
    "                    k-=1\n",
    "                elif nums[i]+nums[j]+nums[k]<0:\n",
    "                    j+=1\n",
    "                elif nums[i]+nums[j]+nums[k]>0:\n",
    "                    k-=1\n",
    "        return ans"
   ]
  },
  {
   "cell_type": "markdown",
   "metadata": {},
   "source": [
    "Spiral Matrix\n"
   ]
  },
  {
   "cell_type": "code",
   "execution_count": null,
   "metadata": {},
   "outputs": [],
   "source": [
    "class Solution:\n",
    "    def spiralOrder(self, matrix: List[List[int]]) -> List[int]:\n",
    "        if not matrix:\n",
    "            return []\n",
    "        rows = len(matrix)\n",
    "        cols = len(matrix[0])\n",
    "\n",
    "        top = left = 0\n",
    "        bottom = rows - 1\n",
    "        right = cols - 1\n",
    "\n",
    "        ans = []\n",
    "\n",
    "        while len(ans) < rows*cols:\n",
    "            for i in range(left,right+1):\n",
    "                ans.append(matrix[top][i])\n",
    "            top+=1\n",
    "            for i in range(top,bottom+1):\n",
    "                ans.append(matrix[i][right])\n",
    "            right-=1\n",
    "            if top <= bottom:\n",
    "                for i in range(right,left-1,-1):\n",
    "                    ans.append(matrix[bottom][i])\n",
    "                bottom -= 1\n",
    "            if left<=right:\n",
    "                for i in range(bottom,top-1,-1):\n",
    "                    ans.append(matrix[i][left])\n",
    "                left+= 1\n",
    "        return ans"
   ]
  },
  {
   "cell_type": "markdown",
   "metadata": {},
   "source": [
    "Subarray sum equal k\n"
   ]
  },
  {
   "cell_type": "code",
   "execution_count": null,
   "metadata": {},
   "outputs": [],
   "source": [
    "class Solution:\n",
    "    def subarraySum(self, nums: List[int], k: int) -> int:\n",
    "        currsum = 0\n",
    "        ans = 0\n",
    "        d = {0:1}\n",
    "        for i in nums:\n",
    "            currsum += i\n",
    "            if (currsum-k) in d:\n",
    "                ans += d[currsum-k]\n",
    "            d[currsum] = d.get(currsum,0) + 1\n",
    "        return ans"
   ]
  },
  {
   "cell_type": "markdown",
   "metadata": {},
   "source": [
    "subarray sum divisible by k\n"
   ]
  },
  {
   "cell_type": "code",
   "execution_count": null,
   "metadata": {},
   "outputs": [],
   "source": [
    "class Solution:\n",
    "    def subarraysDivByK(self, nums: List[int], k: int) -> int:\n",
    "        d = [0]*k\n",
    "        d[0] = 1\n",
    "        c = 0\n",
    "        ans = 0\n",
    "        for i in nums:\n",
    "            if i>=0:\n",
    "                c+=i\n",
    "            else:\n",
    "                c+=(i%k)+k\n",
    "            c%=k\n",
    "            ans += d[c]\n",
    "            d[c]+=1\n",
    "        return ans"
   ]
  }
 ],
 "metadata": {
  "language_info": {
   "name": "python"
  }
 },
 "nbformat": 4,
 "nbformat_minor": 2
}
