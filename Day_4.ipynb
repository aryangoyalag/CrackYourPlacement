{
 "cells": [
  {
   "cell_type": "markdown",
   "metadata": {},
   "source": [
    "#### Print Anagrams Together"
   ]
  },
  {
   "cell_type": "code",
   "execution_count": null,
   "metadata": {},
   "outputs": [],
   "source": [
    "#User function Template for python3\n",
    "from collections import defaultdict\n",
    "class Solution:\n",
    "    def Anagrams(self, words, n):\n",
    "        '''\n",
    "        words: list of word\n",
    "        n:      no of words\n",
    "        return : list of group of anagram {list will be sorted in driver code (not word in grp)}\n",
    "        '''\n",
    "        \n",
    "        #code here\n",
    "        count = [0]*26\n",
    "        \n",
    "        d = defaultdict(list)\n",
    "        \n",
    "        for i in words:\n",
    "            for w in i:\n",
    "                count[(ord(w)-ord('a'))] += 1\n",
    "            d[tuple(count)].append(i)\n",
    "            count = [0]*26\n",
    "        ans = []\n",
    "        for i in d.keys():\n",
    "            ans.append(d[i])\n",
    "        return ans\n",
    "#{ \n",
    " # Driver Code Starts\n",
    "#Initial Template for Python 3\n",
    "\n",
    "#contributed by RavinderSinghPB\n",
    "if __name__ =='__main__':\n",
    "    t= int(input())\n",
    "    for tcs in range(t):\n",
    "        n= int(input())\n",
    "        words=input().split()\n",
    "        \n",
    "        ob = Solution()\n",
    "        ans = ob.Anagrams(words,n)\n",
    "        \n",
    "        for grp in sorted(ans):\n",
    "            for word in grp:\n",
    "                print(word,end=' ')\n",
    "            print()\n",
    "\n",
    "# } Driver Code Ends"
   ]
  },
  {
   "cell_type": "markdown",
   "metadata": {},
   "source": [
    "#### Group Anagrams"
   ]
  },
  {
   "cell_type": "code",
   "execution_count": null,
   "metadata": {},
   "outputs": [],
   "source": [
    "class Solution:\n",
    "    def groupAnagrams(self, strs: List[str]) -> List[List[str]]:\n",
    "        d = defaultdict(list)\n",
    "        c = [0]*26\n",
    "        for i in strs:\n",
    "            for j in i:\n",
    "                c[ord(j)-ord('a')]+=1\n",
    "            d[tuple(c)].append(i)\n",
    "            c = [0]*26\n",
    "        return [d[i] for i in d.keys() ]"
   ]
  },
  {
   "cell_type": "markdown",
   "metadata": {},
   "source": [
    "#### Maximum Points You Can Obtain from Cards"
   ]
  },
  {
   "cell_type": "code",
   "execution_count": null,
   "metadata": {},
   "outputs": [],
   "source": [
    "class Solution:\n",
    "    def maxScore(self, cardPoints: List[int], k: int) -> int:\n",
    "        total_pts = sum(cardPoints)\n",
    "        window_size = len(cardPoints) - k\n",
    "        \n",
    "        maxx = 0\n",
    "        window = sum(cardPoints[:window_size])\n",
    "        maxx = max(maxx,total_pts - window)\n",
    "        for i in range(0,len(cardPoints)-window_size):\n",
    "            window = window - cardPoints[i] + cardPoints[i+window_size]\n",
    "            maxx = max(maxx,total_pts-window)\n",
    "        return maxx"
   ]
  },
  {
   "cell_type": "markdown",
   "metadata": {},
   "source": [
    "#### Valid Parentheses"
   ]
  },
  {
   "cell_type": "code",
   "execution_count": null,
   "metadata": {},
   "outputs": [],
   "source": [
    "class Solution:\n",
    "    def isValid(self, s: str) -> bool:\n",
    "        d = {\n",
    "            ')':'(',\n",
    "            ']':'[',\n",
    "            '}':'{'\n",
    "        }\n",
    "        stack = []\n",
    "        s = s[::-1]\n",
    "        for i in s:\n",
    "            if stack:\n",
    "                if stack[-1] in d.keys() and d[stack[-1]]==i:\n",
    "                    stack.pop()\n",
    "                else:\n",
    "                    stack.append(i)\n",
    "            else:\n",
    "                stack.append(i)\n",
    "        return len(stack) == 0"
   ]
  },
  {
   "cell_type": "markdown",
   "metadata": {},
   "source": [
    "#### Merge Two Sorted Linked Lists"
   ]
  },
  {
   "cell_type": "code",
   "execution_count": null,
   "metadata": {},
   "outputs": [],
   "source": [
    "# Definition for singly-linked list.\n",
    "# class ListNode:\n",
    "#     def __init__(self, val=0, next=None):\n",
    "#         self.val = val\n",
    "#         self.next = next\n",
    "class Solution:\n",
    "    def mergeTwoLists(self, list1: Optional[ListNode], list2: Optional[ListNode]) -> Optional[ListNode]:\n",
    "        dummy = ListNode()\n",
    "        ans = dummy\n",
    "        while list1 and list2:\n",
    "            if list1.val <= list2.val:\n",
    "                dummy.next = list1\n",
    "                \n",
    "                list1 = list1.next\n",
    "            else:\n",
    "                dummy.next = list2\n",
    "                list2 = list2.next\n",
    "            dummy = dummy.next\n",
    "        if list1:\n",
    "            dummy.next = list1\n",
    "        if list2:\n",
    "            dummy.next = list2\n",
    "        return ans.next"
   ]
  }
 ],
 "metadata": {
  "language_info": {
   "name": "python"
  }
 },
 "nbformat": 4,
 "nbformat_minor": 2
}
