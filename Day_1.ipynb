{
 "cells": [
  {
   "cell_type": "markdown",
   "metadata": {},
   "source": [
    "#### Remove Duplicates from Sorted Array\n"
   ]
  },
  {
   "cell_type": "code",
   "execution_count": null,
   "metadata": {},
   "outputs": [],
   "source": [
    "class Solution:\n",
    "    def removeDuplicates(self, nums: List[int]) -> int:\n",
    "        #O(n) - only because nums is already sorted otherwise it would have been O(nlogn)\n",
    "\n",
    "        curr = 0\n",
    "        last = None\n",
    "        for i in nums:\n",
    "            if last==i:\n",
    "                continue\n",
    "            last = i\n",
    "            nums[curr] = i\n",
    "            curr += 1\n",
    "        return curr\n",
    "\n",
    "        # O(n^2)\n",
    "        # i, j, l = 0, 1, len(nums)\n",
    "        # while j<l:\n",
    "        #     if nums[i]==nums[j]:\n",
    "        #         nums.pop(j)\n",
    "        #         l-=1\n",
    "        #     else:\n",
    "        #         i+=1\n",
    "        #         j+=1\n",
    "        # return l"
   ]
  }
 ],
 "metadata": {
  "language_info": {
   "name": "python"
  }
 },
 "nbformat": 4,
 "nbformat_minor": 2
}
