{
 "cells": [
  {
   "cell_type": "markdown",
   "metadata": {},
   "source": [
    "#### Remove Duplicates from Sorted Array\n"
   ]
  },
  {
   "cell_type": "code",
   "execution_count": 11,
   "metadata": {},
   "outputs": [],
   "source": [
    "\n",
    "from typing import List\n",
    "\n",
    "\n",
    "class Solution:\n",
    "    def removeDuplicates(self, nums: List[int]) -> int:\n",
    "        #O(n) - only because nums is already sorted otherwise it would have been O(nlogn)\n",
    "\n",
    "        curr = 0\n",
    "        last = None\n",
    "        for i in nums:\n",
    "            if last==i:\n",
    "                continue\n",
    "            last = i\n",
    "            nums[curr] = i\n",
    "            curr += 1\n",
    "        return curr\n",
    "\n",
    "        # O(n^2)\n",
    "        # i, j, l = 0, 1, len(nums)\n",
    "        # while j<l:\n",
    "        #     if nums[i]==nums[j]:\n",
    "        #         nums.pop(j)\n",
    "        #         l-=1\n",
    "        #     else:\n",
    "        #         i+=1\n",
    "        #         j+=1\n",
    "        # return l"
   ]
  },
  {
   "cell_type": "markdown",
   "metadata": {},
   "source": [
    "#### Move Zeroes"
   ]
  },
  {
   "cell_type": "code",
   "execution_count": 5,
   "metadata": {},
   "outputs": [],
   "source": [
    "class Solution:\n",
    "    def moveZeroes(self, nums: List[int]) -> None:\n",
    "        \"\"\"\n",
    "        Do not return anything, modify nums in-place instead.\n",
    "        \"\"\"\n",
    "        # O(n)\n",
    "        \n",
    "        l = len(nums)\n",
    "        if l > 1:\n",
    "            i, j = 0, 1\n",
    "            while j < l:\n",
    "                if nums[i] == 0 and nums[j] != 0:\n",
    "                    nums[i], nums[j] = nums[j], nums[i]\n",
    "                    i += 1\n",
    "                    j += 1\n",
    "                elif nums[i] == nums[j] and nums[i] == 0:\n",
    "                    j += 1\n",
    "                else:\n",
    "                    i+=1\n",
    "                    j+=1\n",
    "            \n",
    "\n",
    "\n",
    "        "
   ]
  },
  {
   "cell_type": "markdown",
   "metadata": {},
   "source": [
    "#### Two Sum"
   ]
  },
  {
   "cell_type": "code",
   "execution_count": 6,
   "metadata": {},
   "outputs": [],
   "source": [
    "class Solution:\n",
    "    def twoSum(self, nums: List[int], target: int) -> List[int]:\n",
    "        #T(n) : O(n)\n",
    "        #S(n) : O(n)\n",
    "        d = {}\n",
    "        for i,e in enumerate(nums):\n",
    "            diff = target - e\n",
    "            if diff in d.keys():\n",
    "                return [d[diff],i]\n",
    "            d[e] = i\n",
    "\n",
    "        #T(n) : O(n^2)\n",
    "        #S(n) : O(1)\n",
    "        # for i in range(len(nums)):\n",
    "        #     for j in range(i+1,len(nums)):\n",
    "        #         if nums[i] + nums[j] == target:\n",
    "        #             return [i,j]"
   ]
  },
  {
   "cell_type": "markdown",
   "metadata": {},
   "source": [
    "#### Best Time to Buy and Sell Stock"
   ]
  },
  {
   "cell_type": "code",
   "execution_count": 7,
   "metadata": {},
   "outputs": [],
   "source": [
    "class Solution:\n",
    "    def maxProfit(self, prices: List[int]) -> int:\n",
    "        # T(n) : O(n)  -> We begin searching for first minimum then if we don't find new minimum we smply check if the difference is max or not\n",
    "        minn = float('inf')\n",
    "        maxx = 0\n",
    "        for i in prices:\n",
    "            if minn > i:\n",
    "                minn = i\n",
    "            else:\n",
    "                maxx = max(maxx,i-minn)\n",
    "        return maxx\n",
    "\n",
    "        # T(n) : O(n^2)\n",
    "        # diff = 0\n",
    "        # for i in range(len(prices)):\n",
    "        #     for j in range(i+1,len(prices)):\n",
    "        #         if prices[j] > prices[i]:\n",
    "        #             diff = max(diff,prices[j]-prices[i])\n",
    "        # return diff"
   ]
  },
  {
   "cell_type": "markdown",
   "metadata": {},
   "source": [
    "#### Merge Sorted Array"
   ]
  },
  {
   "cell_type": "code",
   "execution_count": 8,
   "metadata": {},
   "outputs": [],
   "source": [
    "class Solution:\n",
    "    def merge(self, nums1: List[int], m: int, nums2: List[int], n: int) -> None:\n",
    "        \"\"\"\n",
    "        Do not return anything, modify nums1 in-place instead.\n",
    "        \"\"\"\n",
    "        # T(n) : O(max(m,n)+(m+n)log(m+n)) -> O(mlogm)\n",
    "        i = j = 0\n",
    "        while i < len(nums1) and j < len(nums2):\n",
    "            if nums1[i] == 0:\n",
    "                nums1[i] = nums2[j]\n",
    "                j+=1\n",
    "            i+=1\n",
    "        nums1.sort()\n",
    "\n",
    "\n",
    "        # T(n) : O(m.nlogn)\n",
    "        # if n > 0:\n",
    "        #     nums2.sort()\n",
    "        #     i = 0\n",
    "        #     while i < m:\n",
    "        #         if nums1[i] > nums2[0]:\n",
    "        #             nums1[i], nums2[0] =  nums2[0] , nums1[i]\n",
    "        #             nums2.sort()\n",
    "        #         i += 1\n",
    "        #     j = 0\n",
    "        #     while i < m+n:\n",
    "        #         nums1[i] = nums2[j]\n",
    "        #         i+=1\n",
    "        #         j+=1\n",
    "            "
   ]
  }
 ],
 "metadata": {
  "kernelspec": {
   "display_name": "Python 3",
   "language": "python",
   "name": "python3"
  },
  "language_info": {
   "codemirror_mode": {
    "name": "ipython",
    "version": 3
   },
   "file_extension": ".py",
   "mimetype": "text/x-python",
   "name": "python",
   "nbconvert_exporter": "python",
   "pygments_lexer": "ipython3",
   "version": "3.12.2"
  }
 },
 "nbformat": 4,
 "nbformat_minor": 2
}
