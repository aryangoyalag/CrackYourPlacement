{
 "cells": [
  {
   "cell_type": "code",
   "execution_count": null,
   "metadata": {},
   "outputs": [],
   "source": [
    "def printDups(Str):\n",
    "\n",
    "    count = {}\n",
    "    for i in range(len(Str)):\n",
    "        if(Str[i] in count):\n",
    "            count[Str[i]] += 1\n",
    "        else:\n",
    "            count[Str[i]] = 1\n",
    "        #increase the count of characters by 1 \n",
    " \n",
    "    for it,it2 in count.items():  #iterating through the unordered map \n",
    "        if (it2 > 1):   #if the count of characters is greater than 1 then duplicate found\n",
    "            print(str(it) + \", count = \"+str(it2))"
   ]
  },
  {
   "cell_type": "code",
   "execution_count": null,
   "metadata": {},
   "outputs": [],
   "source": [
    "class Solution:\n",
    "    def strStr(self, haystack: str, needle: str) -> int:\n",
    "        n = len(needle)\n",
    "        for i in range(0,len(haystack)):\n",
    "            if needle == haystack[i:i+n]:\n",
    "                return i\n",
    "        return -1"
   ]
  },
  {
   "cell_type": "code",
   "execution_count": null,
   "metadata": {},
   "outputs": [],
   "source": [
    "class Solution:\n",
    "    def validPalindrome(self, s: str) -> bool:\n",
    "        i = 0\n",
    "        j = len(s)-1\n",
    "        while i <= j:\n",
    "            if s[i] != s[j]:\n",
    "                a = s[:i] + s[i+1:]\n",
    "                b = s[:j] + s[j+1:]\n",
    "                return a == a[::-1] or b == b[::-1]\n",
    "            i+=1\n",
    "            j-=1\n",
    "        return True"
   ]
  },
  {
   "cell_type": "code",
   "execution_count": null,
   "metadata": {},
   "outputs": [],
   "source": [
    "class Solution:\n",
    "    def reverseWords(self, s: str) -> str:\n",
    "\n",
    "        s = s.split()\n",
    "        return \" \".join(s[::-1])"
   ]
  }
 ],
 "metadata": {
  "language_info": {
   "name": "python"
  }
 },
 "nbformat": 4,
 "nbformat_minor": 2
}
