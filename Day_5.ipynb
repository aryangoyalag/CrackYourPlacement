{
 "cells": [
  {
   "cell_type": "markdown",
   "metadata": {},
   "source": [
    "#### Four Sum"
   ]
  },
  {
   "cell_type": "code",
   "execution_count": null,
   "metadata": {},
   "outputs": [],
   "source": [
    "class Solution:\n",
    "    def fourSum(self, nums: List[int], target: int) -> List[List[int]]:\n",
    "        nums.sort()\n",
    "        ans = set()\n",
    "        n = len(nums)\n",
    "        \n",
    "        for a in range(n-3):\n",
    "            for b in range(a+1,n-2):\n",
    "                c = b+1\n",
    "                d = n - 1\n",
    "                while c<d:\n",
    "                    s = nums[a]+nums[b]+nums[c] + nums[d]\n",
    "                    if s==target:\n",
    "                        ans.add((nums[a],nums[b],nums[c],nums[d]))\n",
    "                        c+=1\n",
    "                        d-=1\n",
    "                    elif s>target:\n",
    "                        d-=1\n",
    "                    else:\n",
    "                        c+=1\n",
    "        return ans"
   ]
  },
  {
   "cell_type": "markdown",
   "metadata": {},
   "source": [
    "#### Reverse Pairs"
   ]
  },
  {
   "cell_type": "code",
   "execution_count": null,
   "metadata": {},
   "outputs": [],
   "source": [
    "class Solution:\n",
    "    def reversePairs(self, nums: List[int]) -> int:\n",
    "        ans = 0\n",
    "        def m_s(arr):\n",
    "            if len(arr) <= 1:\n",
    "                return arr\n",
    "            return m(m_s(arr[:(len(arr)+1)//2]),m_s(arr[(len(arr)+1)//2:]))\n",
    "        def m(l,r):\n",
    "            nonlocal ans\n",
    "            i = j = 0\n",
    "            while i < len(l) and j < len(r):\n",
    "                if l[i] <= 2*r[j]:\n",
    "                    i+=1\n",
    "                else:\n",
    "                    ans += len(l)-i\n",
    "                    j+=1\n",
    "            return sorted(l+r)\n",
    "        m_s(nums)\n",
    "        return ans"
   ]
  },
  {
   "cell_type": "markdown",
   "metadata": {},
   "source": [
    "#### Rotate Image"
   ]
  },
  {
   "cell_type": "code",
   "execution_count": null,
   "metadata": {},
   "outputs": [],
   "source": [
    "class Solution:\n",
    "    def rotate(self, m: List[List[int]]) -> None:\n",
    "        \"\"\"\n",
    "        Do not return anything, modify matrix in-place instead.\n",
    "        \"\"\"\n",
    "        for i in range(len(m)):\n",
    "            for j in range(i):\n",
    "                m[i][j],m[j][i]=m[j][i],m[i][j]\n",
    "        for i in range(len(m)):\n",
    "            m[i] = m[i][::-1]"
   ]
  },
  {
   "cell_type": "markdown",
   "metadata": {},
   "source": [
    "#### Middle of a Linked List"
   ]
  },
  {
   "cell_type": "code",
   "execution_count": null,
   "metadata": {},
   "outputs": [],
   "source": [
    "# Definition for singly-linked list.\n",
    "# class ListNode:\n",
    "#     def __init__(self, val=0, next=None):\n",
    "#         self.val = val\n",
    "#         self.next = next\n",
    "class Solution:\n",
    "    def middleNode(self, head: Optional[ListNode]) -> Optional[ListNode]:\n",
    "        slow = head\n",
    "        fast = head\n",
    "        while fast and fast.next:\n",
    "            slow = slow.next\n",
    "            fast = fast.next.next\n",
    "        return slow"
   ]
  },
  {
   "cell_type": "markdown",
   "metadata": {},
   "source": [
    "#### Linked List Cycle"
   ]
  },
  {
   "cell_type": "code",
   "execution_count": null,
   "metadata": {},
   "outputs": [],
   "source": [
    "# Definition for singly-linked list.\n",
    "# class ListNode:\n",
    "#     def __init__(self, x):\n",
    "#         self.val = x\n",
    "#         self.next = None\n",
    "\n",
    "class Solution:\n",
    "    def hasCycle(self, head: Optional[ListNode]) -> bool:\n",
    "        slow = head\n",
    "        fast = head\n",
    "        while fast and fast.next and fast.next.next:\n",
    "            slow = slow.next\n",
    "            fast = fast.next.next\n",
    "            if slow is fast:\n",
    "                slow = head\n",
    "                while slow is not fast:\n",
    "                    slow = slow.next\n",
    "                    fast = fast.next\n",
    "                return True\n",
    "        return False"
   ]
  }
 ],
 "metadata": {
  "language_info": {
   "name": "python"
  }
 },
 "nbformat": 4,
 "nbformat_minor": 2
}
