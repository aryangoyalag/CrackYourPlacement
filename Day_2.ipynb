{
 "cells": [
  {
   "cell_type": "markdown",
   "metadata": {},
   "source": [
    "#### Chocolate Distribution Problem"
   ]
  },
  {
   "cell_type": "code",
   "execution_count": 4,
   "metadata": {},
   "outputs": [
    {
     "name": "stdout",
     "output_type": "stream",
     "text": [
      "[1, 3, 4, 7, 9, 9, 12, 56]\n",
      "6\n"
     ]
    }
   ],
   "source": [
    "class Solution:\n",
    "\n",
    "    def findMinDiff(self, A,N,M):\n",
    "        # choose M elements from A such that max-min is minimum\n",
    "        A.sort()\n",
    "        i = 0\n",
    "        j = M - 1\n",
    "        ans = float('inf')\n",
    "        while j < N:\n",
    "            ans = min(ans,A[j]-A[i])\n",
    "            i+=1\n",
    "            j+=1\n",
    "        return ans"
   ]
  },
  {
   "cell_type": "markdown",
   "metadata": {},
   "source": [
    "#### Majority Element"
   ]
  },
  {
   "cell_type": "code",
   "execution_count": null,
   "metadata": {},
   "outputs": [],
   "source": [
    "class Solution:\n",
    "    def majorityElement(self, nums: List[int]) -> int:\n",
    "        # T(n) : O(n)  S(n) : O(1)  -> Moore Voting Algorithm\n",
    "        count = 0\n",
    "        candidate = 0\n",
    "        for i in nums:\n",
    "            if count == 0:\n",
    "                candidate = i\n",
    "            if i == candidate:\n",
    "                count += 1\n",
    "            else:\n",
    "                count -=1\n",
    "        return candidate\n",
    "\n",
    "\n",
    "        # T(n) : O(nlogn) S(n) : O(1)\n",
    "        target = len(nums)//2\n",
    "        nums.sort()\n",
    "        i = 0\n",
    "        c = 0\n",
    "        prev = nums[0]\n",
    "        while i < len(nums):\n",
    "            if nums[i] == prev:\n",
    "                c += 1\n",
    "                if c > target:\n",
    "                    return nums[i]\n",
    "            else:\n",
    "                prev = nums[i]\n",
    "                c = 1\n",
    "            i+=1\n"
   ]
  },
  {
   "cell_type": "markdown",
   "metadata": {},
   "source": [
    "#### Find the Duplicate Number"
   ]
  },
  {
   "cell_type": "code",
   "execution_count": null,
   "metadata": {},
   "outputs": [],
   "source": [
    "class Solution:\n",
    "    def findDuplicate(self, nums: List[int]) -> int:\n",
    "        slow = nums[0]\n",
    "        fast = nums[0]\n",
    "\n",
    "        while slow and fast:\n",
    "            slow = nums[slow]\n",
    "            fast = nums[nums[fast]]\n",
    "            \n",
    "            if slow == fast:\n",
    "                break\n",
    "        fast  = nums[0]\n",
    "        while slow != fast:\n",
    "            slow = nums[slow]\n",
    "            fast = nums[fast]\n",
    "        return fast"
   ]
  },
  {
   "cell_type": "markdown",
   "metadata": {},
   "source": [
    "#### Sort Colors"
   ]
  },
  {
   "cell_type": "code",
   "execution_count": null,
   "metadata": {},
   "outputs": [],
   "source": [
    "class Solution:\n",
    "    def sortColors(self, nums: List[int]) -> None:\n",
    "        \"\"\"\n",
    "        Do not return anything, modify nums in-place instead.\n",
    "        \"\"\"\n",
    "        # T(n) : O(n) One Pass S(n) : O(1)\n",
    "        low = mid = 0\n",
    "        high = len(nums) - 1\n",
    "        while mid <= high:\n",
    "            if nums[mid] == 0:\n",
    "                nums[low],nums[mid] = nums[mid], nums[low]\n",
    "                low += 1\n",
    "                mid += 1\n",
    "            elif nums[mid] == 1:\n",
    "                mid += 1\n",
    "            else:\n",
    "                nums[mid],nums[high] = nums[high],nums[mid]\n",
    "                high -= 1\n",
    "                \n",
    "        # T(n) : O(2n)  Two Pass S(n) : O(n)\n",
    "        count = [0,0,0]\n",
    "        for i in nums:\n",
    "            count[i] += 1\n",
    "        for i in range(len(nums)):\n",
    "            if count[0]!=0:\n",
    "                nums[i]=0\n",
    "                count[0]-=1\n",
    "            elif count[1]!=0:\n",
    "                nums[i]=1\n",
    "                count[1]-=1\n",
    "            else:\n",
    "                nums[i]=2\n",
    "                count[2]-=1"
   ]
  },
  {
   "cell_type": "markdown",
   "metadata": {},
   "source": [
    "#### Set Matrix Zeroes"
   ]
  },
  {
   "cell_type": "code",
   "execution_count": null,
   "metadata": {},
   "outputs": [],
   "source": [
    "class Solution:\n",
    "    def setZeroes(self, matrix: List[List[int]]) -> None:\n",
    "        \"\"\"\n",
    "        Do not return anything, modify matrix in-place instead.\n",
    "        \"\"\"\n",
    "        rows = len(matrix)\n",
    "        cols = len(matrix[0])\n",
    "\n",
    "        coords = []\n",
    "        for r in range(rows):\n",
    "            for c in range(cols):\n",
    "                if matrix[r][c]==0:\n",
    "                    coords.append([r,c])\n",
    "        for i in coords:\n",
    "            x , y = i\n",
    "            for j in range(cols):\n",
    "                matrix[x][j] = 0\n",
    "            for k in range(rows):\n",
    "                matrix[k][y] = 0\n"
   ]
  }
 ],
 "metadata": {
  "kernelspec": {
   "display_name": "Python 3",
   "language": "python",
   "name": "python3"
  },
  "language_info": {
   "codemirror_mode": {
    "name": "ipython",
    "version": 3
   },
   "file_extension": ".py",
   "mimetype": "text/x-python",
   "name": "python",
   "nbconvert_exporter": "python",
   "pygments_lexer": "ipython3",
   "version": "3.12.2"
  }
 },
 "nbformat": 4,
 "nbformat_minor": 2
}
